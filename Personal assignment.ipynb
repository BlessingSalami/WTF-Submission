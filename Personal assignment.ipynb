{
 "cells": [
  {
   "cell_type": "markdown",
   "id": "b243a918",
   "metadata": {},
   "source": [
    "# QUESTION 1. Print all element of a list using for loop"
   ]
  },
  {
   "cell_type": "code",
   "execution_count": 2,
   "id": "2b00a020",
   "metadata": {},
   "outputs": [
    {
     "name": "stdout",
     "output_type": "stream",
     "text": [
      "James\n",
      "Mary\n",
      "Ngozi\n"
     ]
    }
   ],
   "source": [
    "list=[\"James\", \"Mary\", \"Ngozi\"]\n",
    "for i in range (0, len(list)):\n",
    "    print (list[i])"
   ]
  },
  {
   "cell_type": "markdown",
   "id": "64a174cb",
   "metadata": {},
   "source": [
    "# QUESTION 2. Using range(1,101), make two list, one containing all even numbers and other containing all odd numbers."
   ]
  },
  {
   "cell_type": "code",
   "execution_count": 9,
   "id": "c078ef89",
   "metadata": {},
   "outputs": [
    {
     "ename": "IndentationError",
     "evalue": "expected an indented block (3855331827.py, line 2)",
     "output_type": "error",
     "traceback": [
      "\u001b[1;36m  Input \u001b[1;32mIn [9]\u001b[1;36m\u001b[0m\n\u001b[1;33m    ev_li=[]\u001b[0m\n\u001b[1;37m    ^\u001b[0m\n\u001b[1;31mIndentationError\u001b[0m\u001b[1;31m:\u001b[0m expected an indented block\n"
     ]
    }
   ],
   "source": [
    "def split(mix):\n",
    "ev_li=[]\n",
    "od_li=[]\n",
    "for i in mix:\n",
    "if(i%2==0):\n",
    "ev_li.append(i)\n",
    "else\n",
    "od_li.append(i)\n",
    "    print(\"even number:\", ev_li)\n",
    "    print(\"odd number:\", od_li)\n",
    "mix=[3,4,12.16,53,60,77,80,99]\n",
    "split(mix)"
   ]
  },
  {
   "cell_type": "markdown",
   "id": "d4c89a8b",
   "metadata": {},
   "source": [
    "# QUESTION 3. A company decided to give bonus of 5% to employee if his/her year of service is more than 5 years. Ask user for their salary and year of service and print the net bonus amount."
   ]
  },
  {
   "cell_type": "code",
   "execution_count": null,
   "id": "1831ae85",
   "metadata": {},
   "outputs": [],
   "source": [
    "employee_salary=int(input(\"Enter your salary=\"))\n",
    "year_of_service=int(input(\"Enter your year of services=\"))\n",
    "if year_of_services>5:\n",
    "    print(\"Your Net bonus is\",0.05*employee_salary)"
   ]
  },
  {
   "cell_type": "markdown",
   "id": "815fcf0c",
   "metadata": {},
   "source": [
    "# QUESTION 4. Take input of age of 3 people by user and determine oldest and youngest among them."
   ]
  },
  {
   "cell_type": "code",
   "execution_count": 12,
   "id": "1de89252",
   "metadata": {},
   "outputs": [
    {
     "name": "stdout",
     "output_type": "stream",
     "text": [
      "15\n"
     ]
    }
   ],
   "source": [
    "age=(15,18,24)\n",
    "print(min(age))"
   ]
  },
  {
   "cell_type": "markdown",
   "id": "5b4a8fe6",
   "metadata": {},
   "source": [
    "# QUESTION 5. A school has following rules for grading system:\n"
   ]
  },
  {
   "cell_type": "code",
   "execution_count": null,
   "id": "3ea81850",
   "metadata": {},
   "outputs": [],
   "source": [
    "SO"
   ]
  },
  {
   "cell_type": "code",
   "execution_count": null,
   "id": "4015e584",
   "metadata": {},
   "outputs": [],
   "source": []
  }
 ],
 "metadata": {
  "kernelspec": {
   "display_name": "Python 3 (ipykernel)",
   "language": "python",
   "name": "python3"
  },
  "language_info": {
   "codemirror_mode": {
    "name": "ipython",
    "version": 3
   },
   "file_extension": ".py",
   "mimetype": "text/x-python",
   "name": "python",
   "nbconvert_exporter": "python",
   "pygments_lexer": "ipython3",
   "version": "3.9.12"
  }
 },
 "nbformat": 4,
 "nbformat_minor": 5
}
